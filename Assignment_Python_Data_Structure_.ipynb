{
  "nbformat": 4,
  "nbformat_minor": 0,
  "metadata": {
    "colab": {
      "provenance": []
    },
    "kernelspec": {
      "name": "python3",
      "display_name": "Python 3"
    },
    "language_info": {
      "name": "python"
    }
  },
  "cells": [
    {
      "cell_type": "markdown",
      "source": [
        "1. What are data structures, and why are they important?\n",
        "Ans :- Data structures are formats used to store and organize data for efficient access and modification. They're crucial because they directly impact the performance and complexity of algorithms and applications.\n",
        "\n",
        "2.Explain the difference between mutable and immutable data types with example?\n",
        "Ans :- Mutable: The Data Types that can be changed after creation.\n",
        "Example: list = [1, 2, 3] → list[0] = 100\n",
        "\n",
        "Immutable: The Data Types that cannot be changed after creation.\n",
        "Example: tuple = (1, 2, 3) → tuple[0] = 100 ❌ (raises error)\n",
        "\n",
        "3.What are the main differences between lists and tuples in Python?\n",
        "Ans :-\n",
        "     Lists: Lists are Mutable Data Type which is denoted by \"[]\" like\n",
        "     [1,2,3] and they are Slightly Slower in Performance Because of its Dynamic Mutable Ebility.\n",
        "     Tuple: Tuples are Immutable Data Type which is denoted by \"()\" Like\n",
        "     (1,2,3) and they are Slightly faster in Performance Because of its Fixed Immutable Ebility.\n",
        "\n",
        "4.Describe how dictionaries store data?\n",
        "Ans :- Dictionaries store data as key-value pairs using a hash table. Each key is hashed to a location in memory where its value is stored, enabling fast access.\n",
        "\n",
        "5.Why might you use a set instead of a list in Python?\n",
        "Ans :- We use set for\n",
        "To eliminate duplicates automatically\n",
        "To perform fast membership tests (e.g., x in my_set is faster than in a list)\n",
        "\n",
        "6.What is a string in Python, and how is it different from a list?\n",
        "Ans :- A string is an immutable sequence of characters, e.g., \"hello\".\n",
        "A list is a mutable sequence of elements, e.g., [1, 2, \"a\"].\n",
        "Strings cannot be modified directly, while lists can.        \n",
        "\n",
        "7.How do tuples ensure data integrity in Python?\n",
        "Ans :- Tuples are immutable, meaning their content cannot be changed. This guarantees that once data is stored in a tuple, it remains constant—ideal for fixed data structures or keys in dictionaries.\n",
        "\n",
        "8.What is a hash table, and how does it relate to dictionaries in Python?\n",
        "Ans :- A hash table maps keys to values using a hash function. In Python, a dictionary is implemented using a hash table, allowing O(1) average-case time complexity for lookups.\n",
        "\n",
        "9.Can lists contain different data types in Python?\n",
        "Ans :- Yes. Python lists are heterogeneous, meaning they can hold multiple data types:\n",
        "Example: [1, \"two\", 3.0, [4]]\n",
        "\n",
        "10.Explain why strings are immutable in Python?\n",
        "Ans :- Strings are immutable because to :\n",
        "Ensure data consistency\n",
        "Enable safe sharing across threads or functions\n",
        "Improve performance (they can be interned or cached)\n",
        "\n",
        "11.What advantages do dictionaries offer over lists for certain tasks?\n",
        "Ans :- The Advantages dictionaries offer over lists are :\n",
        "Faster lookup by key (O(1) vs O(n))\n",
        "More meaningful access (e.g., user[\"name\"] vs user[0])\n",
        "Ideal for structured, key-value data\n",
        "\n",
        "12.Describe a scenario where using a tuple would be preferable over a list?\n",
        "Ans :- When storing GPS coordinates (lat, long) or RGB color values (255, 255, 255), use tuples to indicate the values should not change and ensure hashability for use as dictionary keys.\n",
        "\n",
        "13.How do sets handle duplicate values in Python?\n",
        "Ans :- Sets automatically discard duplicates directly.\n",
        "Example: set([1, 2, 2, 3]) → {1, 2, 3}\n",
        "\n",
        "14.How does the “in” keyword work differently for lists and dictionaries?\n",
        "Ans :- x in list → Checks if x is a value in the list (O(n))\n",
        "x in dict → Checks if x is a key in the dictionary (O(1) average)\n",
        "\n",
        "15.Can you modify the elements of a tuple? Explain why or why not?\n",
        "Ans:- No. Tuples are immutable. Once created, their contents cannot be changed, which is by design to ensure stability and hashability.\n",
        "\n",
        "16.What is a nested dictionary, and give an example of its use case?\n",
        "Ans:- A nested dictionary is a dictionary inside another dictionary.\n",
        "Example:\n",
        "student = {\n",
        "  \"name\": \"Shiva\",\n",
        "  \"grades\": {\"math\": 90, \"science\": 95}\n",
        "}\n",
        "Its Use case: Representing structured data like JSON or database records.\n",
        "\n",
        "17.Describe the time complexity of accessing elements in a dictionary?\n",
        "Ans:- The time complexity of accessing elements in a Python dictionary is:\n",
        "🔹 Average Case: O(1)\n",
        "Accessing an element by key (e.g., my_dict[\"key\"]) is typically constant time.\n",
        "This efficiency is due to the hash table implementation, which allows direct indexing based on a key's hash value.\n",
        "🔸 Worst Case: O(n)\n",
        "In rare cases (e.g., hash collisions or poorly designed hash functions), multiple keys may hash to the same index.\n",
        "Usually in python Despite the worst-case possibility, Python’s dictionary performance is generally very fast and reliable for lookups.\n",
        "\n",
        "18.In what situations are lists preferred over dictionaries?\n",
        "Ans:-The Situations Where we prefer Lists over dictionaries are basically:\n",
        "When maintaining ordered sequences\n",
        "When keys aren’t needed\n",
        "For index-based access or iteration\n",
        "\n",
        "If you need key-based access, labeled data, or fast lookups, a dictionary is better. Otherwise, lists are the go-to for sequential and positional data.\n",
        "\n",
        "19.Why are dictionaries considered unordered, and how does that affect data retrieval?\n",
        "Ans:- Prior to Python 3.7, dictionaries were unordered by specific. Since 3.7 version of python, they preserve insertion order, but order should not be relied upon for logic unless explicitly intended. Retrieval is by key, not position.\n",
        "\n",
        "20.Explain the difference between a list and a dictionary in terms of data retrieval.\n",
        "Ans :-The difference of the process of data Retrieval in both lists and dictionaries are like :\n",
        "List: Retrieve by index (e.g., list[0])\n",
        "Dictionary: Retrieve by key (e.g., dict[\"name\"])\n",
        "This makes dictionaries better for named data, and lists better for ordered sequences.\n",
        "\n"
      ],
      "metadata": {
        "id": "RNvjO_ORtEk3"
      }
    },
    {
      "cell_type": "code",
      "execution_count": 7,
      "metadata": {
        "id": "gg5WfCTcrBni"
      },
      "outputs": [],
      "source": [
        "\n"
      ]
    },
    {
      "cell_type": "markdown",
      "source": [],
      "metadata": {
        "id": "TZq1VO_Ft053"
      }
    },
    {
      "cell_type": "code",
      "source": [
        "#1 Write a code to create a string with your name and print it.\n",
        "\n",
        "my_name = \"Shivanagendra\"\n",
        "print(\"My name is:\", my_name)\n"
      ],
      "metadata": {
        "colab": {
          "base_uri": "https://localhost:8080/"
        },
        "id": "hWJWKFIgBZKs",
        "outputId": "655648ff-eb77-42f1-ec48-1bf985665bb8"
      },
      "execution_count": 2,
      "outputs": [
        {
          "output_type": "stream",
          "name": "stdout",
          "text": [
            "My name is: Shivanagendra\n"
          ]
        }
      ]
    },
    {
      "cell_type": "code",
      "source": [
        "#2 Write a code to find the length of the string \"Hello World\"\n",
        "\n",
        "\n",
        "text = \"Hello World\"\n",
        "length = len(text)\n",
        "print(\"Length of the string:\", length)\n",
        "\n",
        "#Note: In the Length of the String len() includes or considers \"space\" as a term/Char/Element."
      ],
      "metadata": {
        "colab": {
          "base_uri": "https://localhost:8080/"
        },
        "id": "09UJc6WOCvs6",
        "outputId": "00c5fd4d-2765-4f69-a572-d6e77669e58b"
      },
      "execution_count": 3,
      "outputs": [
        {
          "output_type": "stream",
          "name": "stdout",
          "text": [
            "Length of the string: 11\n"
          ]
        }
      ]
    },
    {
      "cell_type": "code",
      "source": [
        "#3 Write a code to slice the first 3 characters from the string \"Python Programming\"\n",
        "\n",
        "\n",
        "text = \"Python Programming\"\n",
        "sliced_text = text[:3]\n",
        "print(\"First 3 characters:\", sliced_text)\n",
        "\n",
        "#Note : The slice text[:3] returns characters from index 0 up to (but not including) index 3."
      ],
      "metadata": {
        "colab": {
          "base_uri": "https://localhost:8080/"
        },
        "id": "uoGNqEbqCwko",
        "outputId": "23a43d48-93b7-4311-def7-87b6e10e0079"
      },
      "execution_count": 4,
      "outputs": [
        {
          "output_type": "stream",
          "name": "stdout",
          "text": [
            "First 3 characters: Pyt\n"
          ]
        }
      ]
    },
    {
      "cell_type": "code",
      "source": [
        "#4  Write a code to convert the string \"hello\" to uppercase.\n",
        "\n",
        "text = \"hello\"\n",
        "uppercase_text = text.upper()\n",
        "print(\"Uppercase:\", uppercase_text)\n"
      ],
      "metadata": {
        "colab": {
          "base_uri": "https://localhost:8080/"
        },
        "id": "njR1uUPFCrSA",
        "outputId": "de1001d0-92b0-4de1-af8c-0edace55f712"
      },
      "execution_count": 5,
      "outputs": [
        {
          "output_type": "stream",
          "name": "stdout",
          "text": [
            "Uppercase: HELLO\n"
          ]
        }
      ]
    },
    {
      "cell_type": "code",
      "source": [
        "#5 Write a code to replace the word \"apple\" with \"orange\" in the string \"I like apple\".\n",
        "\n",
        "text = \"I like apple\"\n",
        "new_text = text.replace(\"apple\", \"orange\")\n",
        "print(new_text)\n"
      ],
      "metadata": {
        "colab": {
          "base_uri": "https://localhost:8080/"
        },
        "id": "GZJ74PAfELxA",
        "outputId": "7eda49ed-eace-4198-9340-84ad2f0d5a37"
      },
      "execution_count": 6,
      "outputs": [
        {
          "output_type": "stream",
          "name": "stdout",
          "text": [
            "I like orange\n"
          ]
        }
      ]
    },
    {
      "cell_type": "code",
      "source": [
        "#6 Write a code to create a list with numbers 1 to 5 and print it.\n",
        "\n",
        "my_list = [1, 2, 3, 4, 5]\n",
        "print(\"Numbers list:\", my_list)\n"
      ],
      "metadata": {
        "colab": {
          "base_uri": "https://localhost:8080/"
        },
        "id": "NK0s4xTXELs2",
        "outputId": "0ec0d00e-9107-4d4b-a9d6-6ae3ecb2316b"
      },
      "execution_count": 10,
      "outputs": [
        {
          "output_type": "stream",
          "name": "stdout",
          "text": [
            "Numbers list: [1, 2, 3, 4, 5]\n"
          ]
        }
      ]
    },
    {
      "cell_type": "code",
      "source": [
        "#7 Write a code to append the number 10 to the list [1, 2, 3, 4]\n",
        "\n",
        "my_list = [1, 2, 3, 4]\n",
        "my_list.append(10)\n",
        "print(\"Updated list:\", my_list)\n"
      ],
      "metadata": {
        "colab": {
          "base_uri": "https://localhost:8080/"
        },
        "id": "0M4bZ_7sELpb",
        "outputId": "fb5b6273-c89f-4c5b-d9c3-f7e15062d699"
      },
      "execution_count": 11,
      "outputs": [
        {
          "output_type": "stream",
          "name": "stdout",
          "text": [
            "Updated list: [1, 2, 3, 4, 10]\n"
          ]
        }
      ]
    },
    {
      "cell_type": "code",
      "source": [
        "#8 Write a code to remove the number 3 from the list [1, 2, 3, 4, 5].\n",
        "\n",
        "my_list = [1, 2, 3, 4, 5]\n",
        "my_list.remove(3)\n",
        "print(\"Updated list:\", my_list)\n"
      ],
      "metadata": {
        "colab": {
          "base_uri": "https://localhost:8080/"
        },
        "id": "MfGu7bH6ELlu",
        "outputId": "7e120976-d1da-4414-a3d1-4f48d1241c81"
      },
      "execution_count": 12,
      "outputs": [
        {
          "output_type": "stream",
          "name": "stdout",
          "text": [
            "Updated list: [1, 2, 4, 5]\n"
          ]
        }
      ]
    },
    {
      "cell_type": "code",
      "source": [
        "#9 Write a code to access the second element in the list ['a', 'b', 'c', 'd'].\n",
        "\n",
        "my_list = ['a', 'b', 'c', 'd']\n",
        "second_element = my_list[1]\n",
        "print(\"Second element:\", second_element)\n"
      ],
      "metadata": {
        "colab": {
          "base_uri": "https://localhost:8080/"
        },
        "id": "5N3xwwl0ELiC",
        "outputId": "4da3f5a2-fa95-4859-9d57-f1c7e5bc5f5a"
      },
      "execution_count": 13,
      "outputs": [
        {
          "output_type": "stream",
          "name": "stdout",
          "text": [
            "Second element: b\n"
          ]
        }
      ]
    },
    {
      "cell_type": "code",
      "source": [
        "#10 Write a code to reverse the list [10, 20, 30, 40, 50].\n",
        "\n",
        "my_list = [10, 20, 30, 40, 50]\n",
        "reversed_list = my_list[::-1]\n",
        "print(\"Reversed list:\", reversed_list)\n"
      ],
      "metadata": {
        "colab": {
          "base_uri": "https://localhost:8080/"
        },
        "id": "UY3BD8FEELeK",
        "outputId": "489d0eb7-892a-449b-c6bc-7f9fc76ec559"
      },
      "execution_count": 14,
      "outputs": [
        {
          "output_type": "stream",
          "name": "stdout",
          "text": [
            "Reversed list: [50, 40, 30, 20, 10]\n"
          ]
        }
      ]
    },
    {
      "cell_type": "code",
      "source": [
        "#11 Write a code to create a tuple with the elements 100, 200, 300 and print it.\n",
        "\n",
        "my_tuple = (100, 200, 300)\n",
        "print(\"Tuple:\", my_tuple)\n"
      ],
      "metadata": {
        "colab": {
          "base_uri": "https://localhost:8080/"
        },
        "id": "a_lK90hiELZa",
        "outputId": "dba0a8a7-5c92-4ee3-9a20-aa4aa9972a06"
      },
      "execution_count": 15,
      "outputs": [
        {
          "output_type": "stream",
          "name": "stdout",
          "text": [
            "Tuple: (100, 200, 300)\n"
          ]
        }
      ]
    },
    {
      "cell_type": "code",
      "source": [
        "#12  Write a code to access the second-to-last element of the tuple ('red', 'green', 'blue', 'yellow')\n",
        "\n",
        "my_tuple = ('red', 'green', 'blue', 'yellow')\n",
        "second_to_last_element = my_tuple[-2]\n",
        "print(\"Second-to-last element:\", second_to_last_element)\n"
      ],
      "metadata": {
        "colab": {
          "base_uri": "https://localhost:8080/"
        },
        "id": "kgh-kVaiELGy",
        "outputId": "0eb057b0-78da-4d46-95fa-8e84009ab1fa"
      },
      "execution_count": 18,
      "outputs": [
        {
          "output_type": "stream",
          "name": "stdout",
          "text": [
            "Second-to-last element: blue\n"
          ]
        }
      ]
    },
    {
      "cell_type": "code",
      "source": [
        "#13  Write a code to find the minimum number in the tuple (10, 20, 5, 15).\n",
        "\n",
        "my_tuple = (10, 20, 5, 15)\n",
        "minimum_number = min(my_tuple)\n",
        "print(\"Minimum number:\", minimum_number)"
      ],
      "metadata": {
        "colab": {
          "base_uri": "https://localhost:8080/"
        },
        "id": "Y-sXE-smGekX",
        "outputId": "71f1bf11-7526-4f0f-95e4-356e88c9b016"
      },
      "execution_count": 19,
      "outputs": [
        {
          "output_type": "stream",
          "name": "stdout",
          "text": [
            "Minimum number: 5\n"
          ]
        }
      ]
    },
    {
      "cell_type": "code",
      "source": [
        "#14 Write a code to find the index of the element \"cat\" in the tuple ('dog', 'cat', 'rabbit').\n",
        "\n",
        "my_tuple = ('dog', 'cat', 'rabbit')\n",
        "cat_index = my_tuple.index('cat')\n",
        "print(\"Index of 'cat':\", cat_index)"
      ],
      "metadata": {
        "colab": {
          "base_uri": "https://localhost:8080/"
        },
        "id": "qLTs3j3JGegF",
        "outputId": "a8e85c9c-ab23-4f82-8f1b-9734ffdcbeb9"
      },
      "execution_count": 20,
      "outputs": [
        {
          "output_type": "stream",
          "name": "stdout",
          "text": [
            "Index of 'cat': 1\n"
          ]
        }
      ]
    },
    {
      "cell_type": "code",
      "source": [
        "#15  Write a code to create a tuple containing three different fruits and check if \"kiwi\" is in it.\n",
        "fruits = (\"apple\", \"banana\", \"orange\")\n",
        "if \"kiwi\" in fruits:\n",
        "    print(\"Kiwi is in the tuple.\")\n",
        "else:\n",
        "    print(\"Kiwi is not in the tuple.\")\n"
      ],
      "metadata": {
        "colab": {
          "base_uri": "https://localhost:8080/"
        },
        "id": "juZqrTwpGeb-",
        "outputId": "e61d5b3d-12a6-4fb5-e19e-7484319e23d8"
      },
      "execution_count": 22,
      "outputs": [
        {
          "output_type": "stream",
          "name": "stdout",
          "text": [
            "Kiwi is not in the tuple.\n"
          ]
        }
      ]
    },
    {
      "cell_type": "code",
      "source": [
        "#16  Write a code to create a set with the elements 'a', 'b', 'c' and print it\n",
        "\n",
        "my_set = {'a', 'b', 'c'}\n",
        "print(\"Set:\", my_set)"
      ],
      "metadata": {
        "colab": {
          "base_uri": "https://localhost:8080/"
        },
        "id": "xqmvYRO_GeX_",
        "outputId": "d5a08847-7c75-42fe-dd39-32fa8766b94b"
      },
      "execution_count": 23,
      "outputs": [
        {
          "output_type": "stream",
          "name": "stdout",
          "text": [
            "Set: {'c', 'b', 'a'}\n"
          ]
        }
      ]
    },
    {
      "cell_type": "code",
      "source": [
        "#17  Write a code to clear all elements from the set {1, 2, 3, 4, 5}.\n",
        "\n",
        "my_set = {1, 2, 3, 4, 5}\n",
        "my_set.clear()\n",
        "print(\"Cleared set:\", my_set)"
      ],
      "metadata": {
        "colab": {
          "base_uri": "https://localhost:8080/"
        },
        "id": "L_me6f6lGeUS",
        "outputId": "8a339679-3e56-4629-f605-425631b79499"
      },
      "execution_count": 24,
      "outputs": [
        {
          "output_type": "stream",
          "name": "stdout",
          "text": [
            "Cleared set: set()\n"
          ]
        }
      ]
    },
    {
      "cell_type": "code",
      "source": [
        "#18 Write a code to remove the element 4 from the set {1, 2, 3, 4}.\n",
        "\n",
        "numbers = {1, 2, 3, 4}\n",
        "numbers.remove(4)\n",
        "print(\"Updated set:\", numbers)\n",
        "\n"
      ],
      "metadata": {
        "colab": {
          "base_uri": "https://localhost:8080/"
        },
        "id": "D4dLzR4VGeQZ",
        "outputId": "8edd96bc-e82a-4df1-88bc-e442e4a3ff8d"
      },
      "execution_count": 25,
      "outputs": [
        {
          "output_type": "stream",
          "name": "stdout",
          "text": [
            "Updated set: {1, 2, 3}\n"
          ]
        }
      ]
    },
    {
      "cell_type": "code",
      "source": [
        "#19 Write a code to find the union of two sets {1, 2, 3} and {3, 4, 5}.\n",
        "\n",
        "set1 = {1, 2, 3}\n",
        "set2 = {3, 4, 5}\n",
        "union_set = set1.union(set2)\n",
        "print(\"Union of sets:\", union_set)\n",
        "# Note we can use Union_of_set = set1 | set2 command also for the union."
      ],
      "metadata": {
        "colab": {
          "base_uri": "https://localhost:8080/"
        },
        "id": "8Mu4bOviGeMn",
        "outputId": "d5dca514-faf6-463c-eed0-b7e1d0835ba9"
      },
      "execution_count": 26,
      "outputs": [
        {
          "output_type": "stream",
          "name": "stdout",
          "text": [
            "Union of sets: {1, 2, 3, 4, 5}\n"
          ]
        }
      ]
    },
    {
      "cell_type": "code",
      "source": [
        "#20  Write a code to find the intersection of two sets {1, 2, 3} and {2, 3, 4}.\n",
        "\n",
        "set1 = {1, 2, 3}\n",
        "set2 = {2, 3, 4}\n",
        "intersection_set = set1.intersection(set2)\n",
        "print(\"Intersection of sets:\", intersection_set)\n",
        "\n",
        "#Note : We can use intersection_of_set = set1 & set2 command also for intersedction"
      ],
      "metadata": {
        "colab": {
          "base_uri": "https://localhost:8080/"
        },
        "id": "eWFnrNdkGeH_",
        "outputId": "a92934ae-7e10-4bfc-a30a-ad26fa3848e8"
      },
      "execution_count": 27,
      "outputs": [
        {
          "output_type": "stream",
          "name": "stdout",
          "text": [
            "Intersection of sets: {2, 3}\n"
          ]
        }
      ]
    },
    {
      "cell_type": "code",
      "source": [
        "#21  Write a code to create a dictionary with the keys \"name\", \"age\", and \"city\", and print it\n",
        "\n",
        "my_dict = {\n",
        "    \"name\": \"Shivanagendra\",\n",
        "    \"age\": 24,\n",
        "    \"city\": \"Hyderabad\"\n",
        "}\n",
        "print(\"Dictionary:\", my_dict)"
      ],
      "metadata": {
        "colab": {
          "base_uri": "https://localhost:8080/"
        },
        "id": "hsIYHk8oGeDT",
        "outputId": "131a0b66-91f3-490a-acbc-61e83bc1b8d8"
      },
      "execution_count": 29,
      "outputs": [
        {
          "output_type": "stream",
          "name": "stdout",
          "text": [
            "Dictionary: {'name': 'Shivanagendra', 'age': 24, 'city': 'Hyderabad'}\n"
          ]
        }
      ]
    },
    {
      "cell_type": "code",
      "source": [
        "#22  Write a code to add a new key-value pair \"country\": \"USA\" to the dictionary {'name': 'John', 'age': 25}.\n",
        "\n",
        "my_dict = {'name': 'John', 'age': 25}\n",
        "my_dict['country'] = 'USA'\n",
        "print(\"Updated dictionary:\", my_dict)"
      ],
      "metadata": {
        "colab": {
          "base_uri": "https://localhost:8080/"
        },
        "id": "q4VPvU65Gd-F",
        "outputId": "534d1275-c563-41e4-b64f-9edbe75f1fc6"
      },
      "execution_count": 30,
      "outputs": [
        {
          "output_type": "stream",
          "name": "stdout",
          "text": [
            "Updated dictionary: {'name': 'John', 'age': 25, 'country': 'USA'}\n"
          ]
        }
      ]
    },
    {
      "cell_type": "code",
      "source": [
        "#23  Write a code to access the value associated with the key \"name\" in the dictionary {'name': 'Alice', 'age': 30}.\n",
        "\n",
        "my_dict = {'name': 'Alice', 'age': 30}\n",
        "name_value = my_dict['name']\n",
        "print(\"Value associated with 'name':\", name_value)\n"
      ],
      "metadata": {
        "colab": {
          "base_uri": "https://localhost:8080/"
        },
        "id": "DzJ0Q9weGd0q",
        "outputId": "68d2332f-b1a0-4ec1-ecce-742d72332277"
      },
      "execution_count": 31,
      "outputs": [
        {
          "output_type": "stream",
          "name": "stdout",
          "text": [
            "Value associated with 'name': Alice\n"
          ]
        }
      ]
    },
    {
      "cell_type": "code",
      "source": [
        "#24  Write a code to remove the key \"age\" from the dictionary {'name': 'Bob', 'age': 22, 'city': 'New York'}.\n",
        "\n",
        "my_dict = {'name': 'Bob', 'age': 22, 'city': 'New York'}\n",
        "del my_dict['age']\n",
        "print(\"Updated dictionary:\", my_dict)"
      ],
      "metadata": {
        "colab": {
          "base_uri": "https://localhost:8080/"
        },
        "id": "OLWLnY9KKRGz",
        "outputId": "cafde8df-c9f0-45e2-e703-991ecc28f779"
      },
      "execution_count": 32,
      "outputs": [
        {
          "output_type": "stream",
          "name": "stdout",
          "text": [
            "Updated dictionary: {'name': 'Bob', 'city': 'New York'}\n"
          ]
        }
      ]
    },
    {
      "cell_type": "code",
      "source": [
        "#25  Write a code to check if the key \"city\" exists in the dictionary {'name': 'Alice', 'city': 'Paris'}.\n",
        "\n",
        "my_dict = {'name': 'Alice', 'city': 'Paris'}\n",
        "if 'city' in my_dict:\n",
        "    print(\"Key 'city' exists in the dictionary.\")\n",
        "else:\n",
        "    print(\"Key 'city' does not exist in the dictionary.\")"
      ],
      "metadata": {
        "colab": {
          "base_uri": "https://localhost:8080/"
        },
        "id": "eGekRO8gKRBz",
        "outputId": "29d8adfa-4986-4509-e885-2ad05c5f2b37"
      },
      "execution_count": 33,
      "outputs": [
        {
          "output_type": "stream",
          "name": "stdout",
          "text": [
            "Key 'city' exists in the dictionary.\n"
          ]
        }
      ]
    },
    {
      "cell_type": "code",
      "source": [
        "#26 Write a code to create a list, a tuple, and a dictionary, and print them all.\n",
        "\n",
        "my_list = [1, 2, 3, 4]\n",
        "my_tuple = (10, 20, 30)\n",
        "my_dict = {'name': 'Shiva', 'age': 25}\n",
        "print(my_list)\n",
        "print(my_tuple)\n",
        "print(my_dict)"
      ],
      "metadata": {
        "colab": {
          "base_uri": "https://localhost:8080/"
        },
        "id": "c_s3gwa_KQ7z",
        "outputId": "2abb6815-47f9-4f26-d9ef-78eb9614ae29"
      },
      "execution_count": 37,
      "outputs": [
        {
          "output_type": "stream",
          "name": "stdout",
          "text": [
            "[1, 2, 3, 4]\n",
            "(10, 20, 30)\n",
            "{'name': 'Shiva', 'age': 25}\n"
          ]
        }
      ]
    },
    {
      "cell_type": "code",
      "source": [
        "#27 Write a code to create a list of 5 random numbers between 1 and 100, sort it in ascending order, and print the result.(replaced).\n",
        "\n",
        "import random\n",
        "random_numbers = [random.randint(1, 100) for _ in range(5)]\n",
        "random_numbers.sort()\n",
        "print(\"Sorted list:\", random_numbers)\n"
      ],
      "metadata": {
        "colab": {
          "base_uri": "https://localhost:8080/"
        },
        "id": "T1OElscOKQ1l",
        "outputId": "54cd8b2b-a9ba-4ed0-fc52-f2368369f38a"
      },
      "execution_count": 38,
      "outputs": [
        {
          "output_type": "stream",
          "name": "stdout",
          "text": [
            "Sorted list: [20, 38, 46, 56, 69]\n"
          ]
        }
      ]
    },
    {
      "cell_type": "code",
      "source": [
        "#28  Write a code to create a list with strings and print the element at the third index.\n",
        "\n",
        "my_list = [\"apple\", \"banana\", \"cherry\", \"orange\", \"elderberry\"]\n",
        "third_element = my_list[2]\n",
        "print(\"Element at index 2:\", third_element)"
      ],
      "metadata": {
        "colab": {
          "base_uri": "https://localhost:8080/"
        },
        "id": "9n_XMqo3KQum",
        "outputId": "f00e1455-2e8a-427c-e426-4d8f30b49653"
      },
      "execution_count": 41,
      "outputs": [
        {
          "output_type": "stream",
          "name": "stdout",
          "text": [
            "Element at index 2: cherry\n"
          ]
        }
      ]
    },
    {
      "cell_type": "code",
      "source": [
        "#29 Write a code to combine two dictionaries into one and print the result.\n",
        "\n",
        "dict1 = {'a': 1, 'b': 2}\n",
        "dict2 = {'c': 3, 'd': 4}\n",
        "combined_dict = dict1 | dict2 # We can use {**dict1, **dict2} also insted\n",
        "print(\"Combined dictionary:\", combined_dict)"
      ],
      "metadata": {
        "colab": {
          "base_uri": "https://localhost:8080/"
        },
        "id": "RGrw2S_MKQlj",
        "outputId": "f3afa8e1-cba9-4533-d4c5-8e34e04f7ddf"
      },
      "execution_count": 45,
      "outputs": [
        {
          "output_type": "stream",
          "name": "stdout",
          "text": [
            "Combined dictionary: {'a': 1, 'b': 2, 'c': 3, 'd': 4}\n"
          ]
        }
      ]
    },
    {
      "cell_type": "code",
      "source": [
        "#30 Write a code to convert a list of strings into a set.\n",
        "\n",
        "my_list = [\"apple\", \"banana\", \"cherry\", \"banana\", \"watermelon\"]\n",
        "my_set = set(my_list)\n",
        "print(\"Set:\", my_set) #while converting list to set it automatically eliminates dupilicate values."
      ],
      "metadata": {
        "colab": {
          "base_uri": "https://localhost:8080/"
        },
        "id": "zDfYrlh6L-rn",
        "outputId": "b819eede-0a2e-4e35-aa53-040be43a5287"
      },
      "execution_count": 48,
      "outputs": [
        {
          "output_type": "stream",
          "name": "stdout",
          "text": [
            "Set: {'banana', 'cherry', 'apple', 'watermelon'}\n"
          ]
        }
      ]
    },
    {
      "cell_type": "markdown",
      "source": [],
      "metadata": {
        "id": "Xogduxc6tyo5"
      }
    }
  ]
}